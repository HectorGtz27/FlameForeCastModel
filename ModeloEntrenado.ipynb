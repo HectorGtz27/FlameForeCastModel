{
  "nbformat": 4,
  "nbformat_minor": 0,
  "metadata": {
    "colab": {
      "provenance": [],
      "authorship_tag": "ABX9TyNmwfoTysgm2XhheXlNAJtJ",
      "include_colab_link": true
    },
    "kernelspec": {
      "name": "python3",
      "display_name": "Python 3"
    },
    "language_info": {
      "name": "python"
    }
  },
  "cells": [
    {
      "cell_type": "markdown",
      "metadata": {
        "id": "view-in-github",
        "colab_type": "text"
      },
      "source": [
        "<a href=\"https://colab.research.google.com/github/HectorGtz27/FlameForeCastModel/blob/main/ModeloEntrenado.ipynb\" target=\"_parent\"><img src=\"https://colab.research.google.com/assets/colab-badge.svg\" alt=\"Open In Colab\"/></a>"
      ]
    },
    {
      "cell_type": "markdown",
      "source": [
        "Importar librerias"
      ],
      "metadata": {
        "id": "C8rjnVEsff1K"
      }
    },
    {
      "cell_type": "markdown",
      "source": [
        "1.Preprocesamiento de Datos: Estandariza o normaliza las variables para que todas estén en la misma escala. Esto es especialmente importante para redes neuronales."
      ],
      "metadata": {
        "id": "Hz2NHAfhZQdk"
      }
    },
    {
      "cell_type": "code",
      "execution_count": 60,
      "metadata": {
        "id": "CcLQ1E1PY5eO"
      },
      "outputs": [],
      "source": [
        "# Importar las bibliotecas necesarias\n",
        "import pandas as pd\n",
        "import numpy as np\n",
        "from sklearn.preprocessing import StandardScaler\n",
        "\n",
        "data_with_coordinates = {\n",
        "    'Lat': [34.0522, 34.0523, 34.0524, 34.0525, 34.0526],\n",
        "    'Long': [-118.2437, -118.2438, -118.2439, -118.2440, -118.2441],\n",
        "    'TMP': [25, 30, 27, 22, 29],\n",
        "    'RH': [40, 35, 50, 60, 38],\n",
        "    'WS': [10, 12, 8, 6, 11],\n",
        "    'WD': [180, 200, 190, 170, 185],\n",
        "    'FFMC': [85, 88, 80, 75, 87],\n",
        "    'DMC': [30, 25, 40, 45, 28],\n",
        "    'DC': [700, 690, 750, 770, 680],\n",
        "    'ISI': [8, 9, 6, 5, 10],\n",
        "    'BUI': [40, 35, 50, 55, 37],\n",
        "    'FWI': [20, 22, 15, 10, 25]\n",
        "}\n",
        "\n",
        "df = pd.DataFrame(data_with_coordinates)\n",
        "\n",
        "# Estandarizar las variables\n",
        "scaler = StandardScaler()\n",
        "df_scaled = pd.DataFrame(scaler.fit_transform(df), columns=df.columns)\n",
        "\n",
        "\n"
      ]
    },
    {
      "cell_type": "markdown",
      "source": [
        "2.División del Conjunto de Datos: Divide los datos en conjuntos de entrenamiento, validación y prueba."
      ],
      "metadata": {
        "id": "XExNpjHqaBJ7"
      }
    },
    {
      "cell_type": "code",
      "source": [
        "from sklearn.model_selection import train_test_split\n",
        "\n",
        "X = df_scaled.drop('FWI', axis=1)\n",
        "y = df_scaled['FWI']\n",
        "\n",
        "X_train, X_test, y_train, y_test = train_test_split(X, y, test_size=0.2, random_state=42)\n",
        "\n",
        "# Reshape para CNN y LSTM\n",
        "X_train = np.array(X_train).reshape(X_train.shape[0], X_train.shape[1], 1)\n",
        "X_test = np.array(X_test).reshape(X_test.shape[0], X_test.shape[1], 1)\n",
        "\n",
        "# Añadir una dimensión de etapa de tiempo\n",
        "X_train = X_train.reshape((X_train.shape[0], 1, X_train.shape[1], 1))\n",
        "X_test = X_test.reshape((X_test.shape[0], 1, X_test.shape[1], 1))\n",
        "\n",
        "\n",
        "\n"
      ],
      "metadata": {
        "id": "kIbuIDxCZFEf"
      },
      "execution_count": 61,
      "outputs": []
    },
    {
      "cell_type": "markdown",
      "source": [
        "Reshape para CNN y LSTM"
      ],
      "metadata": {
        "id": "-h1uvvcaaPrY"
      }
    },
    {
      "cell_type": "markdown",
      "source": [
        "Paso 3. Arquitectura de la Red: Define la arquitectura de tu red. Esto incluye elegir el número de capas ocultas y neuronas en cada capa. También debes decidir qué funciones de activación usar."
      ],
      "metadata": {
        "id": "Iw6uLVkbcpAY"
      }
    },
    {
      "cell_type": "code",
      "source": [
        "from tensorflow.keras import Sequential\n",
        "from tensorflow.keras.layers import Conv1D, Flatten, Dense, LSTM, TimeDistributed\n",
        "\n",
        "model = Sequential()\n",
        "model.add(TimeDistributed(Conv1D(filters=64, kernel_size=1, activation='relu'), input_shape=(None, X_train.shape[2], 1)))\n",
        "model.add(TimeDistributed(Flatten()))\n",
        "model.add(LSTM(50, activation='relu'))\n",
        "model.add(Dense(1))\n",
        "\n",
        "\n"
      ],
      "metadata": {
        "id": "gIwGCU74cqqy"
      },
      "execution_count": 62,
      "outputs": []
    },
    {
      "cell_type": "markdown",
      "source": [
        "Paso 4. Eleccion del modelo\n",
        "\n",
        "Las redes neuronales convolucionales (CNN) se utilizan comúnmente para el análisis de imágenes, pero también pueden aplicarse a datos secuenciales o geoespaciales. Podríamos diseñar una CNN para procesar nuestros datos, que incluyen tanto mediciones meteorológicas como coordenadas geográficas.\n",
        "\n",
        "Incorporar unidades de memoria a largo plazo (Long Short-Term Memory, LSTM) es una excelente idea si estás trabajando con datos que tienen componentes secuenciales o temporales, como en el caso de datos meteorológicos y de incendios a lo largo del tiempo. Los LSTM son útiles para capturar patrones a largo plazo en series temporales, lo que podría ser fundamental para predecir la propagación de incendios forestales basándose en condiciones que han sido observadas en años anteriores.\n",
        "\n",
        "Podríamos considerar una arquitectura híbrida que combine Convolutional Neural Networks (CNN) para capturar patrones espaciales y LSTM para patrones temporales.\n",
        "\n"
      ],
      "metadata": {
        "id": "xaX2b-bCeC0g"
      }
    },
    {
      "cell_type": "code",
      "source": [
        "# Compilar el modelo\n",
        "model.compile(optimizer='adam', loss='mean_squared_error')\n",
        "\n",
        "\n",
        "\n"
      ],
      "metadata": {
        "id": "eWyhn3IZeWhH"
      },
      "execution_count": 63,
      "outputs": []
    },
    {
      "cell_type": "markdown",
      "source": [
        " Paso 5. Evaluación del modelo.\n",
        "\n",
        " En esta fase, vamos a utilizar nuestro conjunto de datos de prueba para evaluar el rendimiento del modelo. Queremos asegurarnos de que nuestro modelo no solo se ajusta bien a los datos de entrenamiento, sino que también generaliza bien a nuevos datos."
      ],
      "metadata": {
        "id": "7p0btpXTeobz"
      }
    },
    {
      "cell_type": "code",
      "source": [
        "# Entrenamiento\n",
        "model.fit(X_train, y_train, epochs=10, verbose=1)\n",
        "\n",
        "# Evaluación del modelo en el conjunto de prueba\n",
        "loss = model.evaluate(X_test, y_test, verbose=1)\n",
        "\n",
        "print(\"Pérdida del modelo en el conjunto de prueba: {}\".format(loss))\n",
        "\n",
        "# Si deseas realizar más evaluaciones, como calcular métricas adicionales, aquí es donde lo harías.\n",
        "\n"
      ],
      "metadata": {
        "colab": {
          "base_uri": "https://localhost:8080/"
        },
        "id": "toTw0-fsrN3M",
        "outputId": "a435842c-a859-43fd-a39d-3c526bdd2431"
      },
      "execution_count": 65,
      "outputs": [
        {
          "output_type": "stream",
          "name": "stdout",
          "text": [
            "Epoch 1/10\n",
            "1/1 [==============================] - 0s 15ms/step - loss: 0.1391\n",
            "Epoch 2/10\n",
            "1/1 [==============================] - 0s 14ms/step - loss: 0.1375\n",
            "Epoch 3/10\n",
            "1/1 [==============================] - 0s 13ms/step - loss: 0.1479\n",
            "Epoch 4/10\n",
            "1/1 [==============================] - 0s 13ms/step - loss: 0.1496\n",
            "Epoch 5/10\n",
            "1/1 [==============================] - 0s 15ms/step - loss: 0.1334\n",
            "Epoch 6/10\n",
            "1/1 [==============================] - 0s 13ms/step - loss: 0.1029\n",
            "Epoch 7/10\n",
            "1/1 [==============================] - 0s 17ms/step - loss: 0.0675\n",
            "Epoch 8/10\n",
            "1/1 [==============================] - 0s 13ms/step - loss: 0.0368\n",
            "Epoch 9/10\n",
            "1/1 [==============================] - 0s 12ms/step - loss: 0.0170\n",
            "Epoch 10/10\n",
            "1/1 [==============================] - 0s 18ms/step - loss: 0.0102\n",
            "1/1 [==============================] - 0s 268ms/step - loss: 0.3388\n",
            "Pérdida del modelo en el conjunto de prueba: 0.3387514352798462\n"
          ]
        }
      ]
    },
    {
      "cell_type": "markdown",
      "source": [
        "Paso 6: Evaluación del Modelo"
      ],
      "metadata": {
        "id": "hZGz-uhDrSL3"
      }
    },
    {
      "cell_type": "code",
      "source": [
        "# Evaluación del modelo en el conjunto de prueba\n",
        "test_loss = model.evaluate(X_test, y_test, verbose=1)\n",
        "print(f\"Test Loss: {test_loss}\")\n",
        "\n",
        "# Si quieres también puedes calcular otras métricas como R² aquí\n"
      ],
      "metadata": {
        "colab": {
          "base_uri": "https://localhost:8080/"
        },
        "id": "O1JweLXysopn",
        "outputId": "dc8fdd64-1ff0-4ecf-d18c-c975d52d84ef"
      },
      "execution_count": 66,
      "outputs": [
        {
          "output_type": "stream",
          "name": "stdout",
          "text": [
            "1/1 [==============================] - 0s 26ms/step - loss: 0.3388\n",
            "Test Loss: 0.3387514352798462\n"
          ]
        }
      ]
    },
    {
      "cell_type": "markdown",
      "source": [
        "Paso 7: Interpretación de Resultados"
      ],
      "metadata": {
        "id": "HmF0SZvystsX"
      }
    },
    {
      "cell_type": "code",
      "source": [
        "# Puedes acceder a los pesos así\n",
        "for layer in model.layers:\n",
        "    print(layer.get_weights())\n"
      ],
      "metadata": {
        "colab": {
          "base_uri": "https://localhost:8080/"
        },
        "id": "woWpY7_BssNf",
        "outputId": "cd0f1ff0-a50a-47b9-88d0-c12840363c73"
      },
      "execution_count": 67,
      "outputs": [
        {
          "output_type": "stream",
          "name": "stdout",
          "text": [
            "[array([[[-0.00335486, -0.23355787, -0.04982813, -0.11042888,\n",
            "          0.13263391,  0.2037471 ,  0.26635727, -0.16483916,\n",
            "          0.25446764,  0.10234929,  0.2768368 ,  0.16859141,\n",
            "         -0.18510026, -0.3088163 ,  0.09389178,  0.0973658 ,\n",
            "          0.31191233, -0.23329757,  0.15030271, -0.24696322,\n",
            "         -0.25880787,  0.29749107, -0.2670706 , -0.10080856,\n",
            "          0.16318582,  0.08785996,  0.07251623, -0.17509902,\n",
            "          0.27261463, -0.19241534,  0.27429864, -0.20034978,\n",
            "         -0.02844257,  0.3040553 , -0.31043828, -0.09104276,\n",
            "         -0.29037857, -0.26598674,  0.19546787, -0.11384574,\n",
            "         -0.02107853,  0.06900523, -0.03302093, -0.10385247,\n",
            "          0.08613374, -0.25293982,  0.05599487,  0.22942163,\n",
            "          0.05246976,  0.151386  , -0.07062382, -0.20505498,\n",
            "         -0.1091615 ,  0.1822259 , -0.04326859,  0.02431041,\n",
            "         -0.19114216,  0.14140554,  0.06494162, -0.09873202,\n",
            "          0.07613515,  0.2702101 ,  0.05396478, -0.29154274]]],\n",
            "      dtype=float32), array([-0.00582311, -0.00404736,  0.00126198,  0.01418516,  0.01090868,\n",
            "        0.00576832,  0.01008919,  0.0108936 ,  0.00919353,  0.01303536,\n",
            "        0.00709006,  0.01231776, -0.00673044,  0.00836092,  0.00791949,\n",
            "        0.01373554,  0.01227045,  0.0029875 ,  0.01269675,  0.0108424 ,\n",
            "        0.00540657,  0.00082325,  0.00632983,  0.01121612,  0.01387716,\n",
            "       -0.01008004,  0.01131695,  0.00067769,  0.01271667,  0.00182486,\n",
            "        0.0106623 , -0.00797609,  0.01012988,  0.00887026,  0.01231965,\n",
            "        0.0125404 ,  0.01028365,  0.01403237,  0.01254642,  0.01214779,\n",
            "        0.00647615,  0.00251181, -0.00660168,  0.01209318,  0.01433518,\n",
            "        0.01243924,  0.00376429,  0.00274144, -0.01047135, -0.00669615,\n",
            "        0.0143923 ,  0.00980405,  0.00276389,  0.0131251 , -0.00991293,\n",
            "        0.0145741 ,  0.01181602,  0.01431936,  0.01017009,  0.0115525 ,\n",
            "        0.01355351,  0.00526341,  0.01164426,  0.01401426], dtype=float32)]\n",
            "[]\n",
            "[array([[-0.06063762,  0.04016588, -0.01311106, ..., -0.08452789,\n",
            "         0.04222013,  0.03491556],\n",
            "       [-0.0186339 ,  0.06011131, -0.00916721, ...,  0.00975205,\n",
            "        -0.07379474, -0.06382418],\n",
            "       [-0.03152526, -0.06760645, -0.02708141, ..., -0.04044629,\n",
            "        -0.01740755, -0.02729339],\n",
            "       ...,\n",
            "       [-0.00153998, -0.00774397,  0.03703176, ...,  0.0073761 ,\n",
            "        -0.06637336,  0.07972071],\n",
            "       [-0.00315292, -0.01928024, -0.03881608, ..., -0.03173095,\n",
            "        -0.04994589,  0.00273938],\n",
            "       [ 0.041918  , -0.06837909,  0.07032102, ..., -0.07885596,\n",
            "        -0.08468208,  0.01552281]], dtype=float32), array([[-0.08403361,  0.03927403,  0.11157531, ...,  0.07164703,\n",
            "        -0.02605135,  0.0212253 ],\n",
            "       [ 0.03654632, -0.19412935,  0.0790887 , ..., -0.03919722,\n",
            "        -0.07671685, -0.12887667],\n",
            "       [-0.05096479,  0.1260806 ,  0.01496327, ..., -0.02456172,\n",
            "        -0.03125851, -0.05286983],\n",
            "       ...,\n",
            "       [-0.05028018, -0.04118165, -0.02449585, ...,  0.01247428,\n",
            "        -0.11820545,  0.11093838],\n",
            "       [ 0.01714333,  0.04304956,  0.04590029, ..., -0.04064726,\n",
            "         0.0050778 ,  0.08345655],\n",
            "       [-0.06171489, -0.08264881, -0.03007379, ..., -0.09434641,\n",
            "         0.11845466,  0.05731806]], dtype=float32), array([ 6.84106257e-04,  0.00000000e+00, -2.84385355e-03,  9.78867896e-03,\n",
            "        0.00000000e+00, -1.01408595e-02,  9.64766741e-03,  9.41068772e-03,\n",
            "        1.96874049e-02,  1.95382833e-02,  8.82548001e-03,  9.43140220e-03,\n",
            "       -8.79917946e-03, -6.67798892e-03,  1.97567102e-02,  1.97654162e-02,\n",
            "        0.00000000e+00, -2.61793053e-03,  7.09708408e-03,  7.39114126e-03,\n",
            "        7.86244776e-03,  9.58150160e-03,  0.00000000e+00, -7.40241012e-05,\n",
            "        8.23868904e-03,  1.94405224e-02,  1.92909539e-02, -8.17997940e-03,\n",
            "        1.93521790e-02,  1.01331342e-02,  0.00000000e+00,  9.53818392e-03,\n",
            "       -1.06369285e-02, -5.28958719e-03,  0.00000000e+00,  8.38063192e-03,\n",
            "        0.00000000e+00,  4.11026459e-03,  8.98345001e-03,  2.91069667e-03,\n",
            "        0.00000000e+00, -9.90295131e-03,  0.00000000e+00, -5.42640081e-03,\n",
            "        4.13428620e-03,  8.27009045e-03,  1.94205474e-02, -8.65012966e-03,\n",
            "        9.75738000e-03,  1.42925391e-02,  1.00000000e+00,  1.00000000e+00,\n",
            "        1.00000000e+00,  1.00000000e+00,  1.00000000e+00,  1.00000000e+00,\n",
            "        1.00000000e+00,  1.00000000e+00,  1.00000000e+00,  1.00000000e+00,\n",
            "        1.00000000e+00,  1.00000000e+00,  1.00000000e+00,  1.00000000e+00,\n",
            "        1.00000000e+00,  1.00000000e+00,  1.00000000e+00,  1.00000000e+00,\n",
            "        1.00000000e+00,  1.00000000e+00,  1.00000000e+00,  1.00000000e+00,\n",
            "        1.00000000e+00,  1.00000000e+00,  1.00000000e+00,  1.00000000e+00,\n",
            "        1.00000000e+00,  1.00000000e+00,  1.00000000e+00,  1.00000000e+00,\n",
            "        1.00000000e+00,  1.00000000e+00,  1.00000000e+00,  1.00000000e+00,\n",
            "        1.00000000e+00,  1.00000000e+00,  1.00000000e+00,  1.00000000e+00,\n",
            "        1.00000000e+00,  1.00000000e+00,  1.00000000e+00,  1.00000000e+00,\n",
            "        1.00000000e+00,  1.00000000e+00,  1.00000000e+00,  1.00000000e+00,\n",
            "        1.00000000e+00,  1.00000000e+00,  1.00000000e+00,  1.00000000e+00,\n",
            "        3.73491785e-03,  0.00000000e+00, -2.07403395e-03,  1.10022016e-02,\n",
            "        0.00000000e+00, -1.20747807e-02,  1.03393244e-02,  1.00981127e-02,\n",
            "        1.92305297e-02,  1.85694434e-02,  1.10605387e-02,  1.07714506e-02,\n",
            "       -1.04114506e-02, -7.38856010e-03,  1.86272450e-02,  1.95403136e-02,\n",
            "        0.00000000e+00,  6.83473307e-04,  8.47140700e-03,  1.06902365e-02,\n",
            "        7.32636265e-03,  1.08519103e-02,  0.00000000e+00, -1.35627913e-03,\n",
            "        1.12632420e-02,  1.51188755e-02,  1.76067334e-02, -1.00694839e-02,\n",
            "        1.47701539e-02,  1.02252634e-02,  0.00000000e+00,  1.12724779e-02,\n",
            "       -1.24774370e-02, -5.30304480e-03,  0.00000000e+00,  9.76026896e-03,\n",
            "        0.00000000e+00,  1.00607676e-02,  1.08617302e-02, -2.76581413e-05,\n",
            "        0.00000000e+00, -8.38225987e-03,  0.00000000e+00, -7.37593602e-03,\n",
            "        9.81810875e-03,  1.10431882e-02,  1.83266159e-02, -9.98424552e-03,\n",
            "        9.76426248e-03,  1.42090097e-02,  1.19401771e-03,  0.00000000e+00,\n",
            "       -2.91780801e-03,  9.45691951e-03,  0.00000000e+00, -1.01439077e-02,\n",
            "        9.39242914e-03,  9.60441865e-03,  1.98610462e-02,  1.94179360e-02,\n",
            "        8.71385168e-03,  9.65588167e-03, -8.79714172e-03, -6.67792652e-03,\n",
            "        1.97966769e-02,  1.97961070e-02,  0.00000000e+00, -2.01036781e-03,\n",
            "        6.93601137e-03,  7.14071235e-03,  8.31312593e-03,  9.59614292e-03,\n",
            "        0.00000000e+00, -7.48945095e-05,  7.99025781e-03,  1.94497667e-02,\n",
            "        1.94140803e-02, -8.17835703e-03,  1.92586202e-02,  1.03474995e-02,\n",
            "        0.00000000e+00,  9.63869225e-03, -1.06438221e-02, -5.28709032e-03,\n",
            "        0.00000000e+00,  8.21261480e-03,  0.00000000e+00,  4.35627345e-03,\n",
            "        8.98895413e-03,  7.43729994e-04,  0.00000000e+00, -9.92451143e-03,\n",
            "        0.00000000e+00, -5.42723434e-03,  3.81125929e-03,  8.29671975e-03,\n",
            "        1.95251163e-02, -8.64962768e-03,  9.26308241e-03,  1.43029178e-02],\n",
            "      dtype=float32)]\n",
            "[array([[-0.34033233],\n",
            "       [ 0.12496474],\n",
            "       [-0.14608474],\n",
            "       [-0.27456215],\n",
            "       [-0.08266893],\n",
            "       [-0.33014393],\n",
            "       [-0.3009347 ],\n",
            "       [-0.18542172],\n",
            "       [ 0.160458  ],\n",
            "       [ 0.20746063],\n",
            "       [-0.24767612],\n",
            "       [-0.25800154],\n",
            "       [-0.05318128],\n",
            "       [-0.07226361],\n",
            "       [ 0.1339523 ],\n",
            "       [ 0.28085533],\n",
            "       [-0.17889334],\n",
            "       [-0.2209674 ],\n",
            "       [-0.01014901],\n",
            "       [-0.14144403],\n",
            "       [-0.28005025],\n",
            "       [-0.20351467],\n",
            "       [ 0.12971133],\n",
            "       [-0.08847176],\n",
            "       [-0.20477667],\n",
            "       [ 0.22797109],\n",
            "       [ 0.33787233],\n",
            "       [-0.30172324],\n",
            "       [ 0.35373142],\n",
            "       [-0.08667786],\n",
            "       [ 0.19527307],\n",
            "       [-0.20693359],\n",
            "       [-0.19124836],\n",
            "       [-0.33059105],\n",
            "       [ 0.08046061],\n",
            "       [-0.15391307],\n",
            "       [ 0.29020497],\n",
            "       [-0.3438922 ],\n",
            "       [-0.10069771],\n",
            "       [ 0.32180166],\n",
            "       [ 0.21534994],\n",
            "       [-0.08838335],\n",
            "       [ 0.28560385],\n",
            "       [-0.17043248],\n",
            "       [-0.12861001],\n",
            "       [-0.20227309],\n",
            "       [ 0.13532221],\n",
            "       [-0.321288  ],\n",
            "       [-0.3315298 ],\n",
            "       [ 0.10237585]], dtype=float32), array([0.00118529], dtype=float32)]\n"
          ]
        }
      ]
    },
    {
      "cell_type": "markdown",
      "source": [
        "Paso 8: Puesta en Producción\n",
        "Finalmente, una vez que estás satisfecho con tu modelo, puedes proceder a implementarlo en un entorno de producción. Esto podría implicar guardar el modelo entrenado y luego cargarlo en un servicio que pueda acceder a él para realizar predicciones en tiempo real."
      ],
      "metadata": {
        "id": "1ckRkGagszv-"
      }
    },
    {
      "cell_type": "code",
      "source": [
        "# Para guardar el modelo\n",
        "model.save('my_model.h5')\n",
        "\n",
        "# Para cargar el modelo\n",
        "from tensorflow.keras.models import load_model\n",
        "new_model = load_model('my_model.h5')\n"
      ],
      "metadata": {
        "id": "EcI_BDqOs3OR"
      },
      "execution_count": 70,
      "outputs": []
    }
  ]
}